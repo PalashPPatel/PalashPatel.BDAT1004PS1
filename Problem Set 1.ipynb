{
 "cells": [
  {
   "cell_type": "markdown",
   "id": "b521cc26",
   "metadata": {},
   "source": [
    "# Question 1"
   ]
  },
  {
   "cell_type": "code",
   "execution_count": 1,
   "id": "4613c74b",
   "metadata": {},
   "outputs": [
    {
     "data": {
      "text/html": [
       "\r\n",
       "<div>\r\n",
       "    <div id='dotnet-interactive-this-cell-22360.Microsoft.DotNet.Interactive.Http.HttpPort' style='display: none'>\r\n",
       "        The below script needs to be able to find the current output cell; this is an easy method to get it.\r\n",
       "    </div>\r\n",
       "    <script type='text/javascript'>\r\n",
       "async function probeAddresses(probingAddresses) {\r\n",
       "    function timeout(ms, promise) {\r\n",
       "        return new Promise(function (resolve, reject) {\r\n",
       "            setTimeout(function () {\r\n",
       "                reject(new Error('timeout'))\r\n",
       "            }, ms)\r\n",
       "            promise.then(resolve, reject)\r\n",
       "        })\r\n",
       "    }\r\n",
       "\r\n",
       "    if (Array.isArray(probingAddresses)) {\r\n",
       "        for (let i = 0; i < probingAddresses.length; i++) {\r\n",
       "\r\n",
       "            let rootUrl = probingAddresses[i];\r\n",
       "\r\n",
       "            if (!rootUrl.endsWith('/')) {\r\n",
       "                rootUrl = `${rootUrl}/`;\r\n",
       "            }\r\n",
       "\r\n",
       "            try {\r\n",
       "                let response = await timeout(1000, fetch(`${rootUrl}discovery`, {\r\n",
       "                    method: 'POST',\r\n",
       "                    cache: 'no-cache',\r\n",
       "                    mode: 'cors',\r\n",
       "                    timeout: 1000,\r\n",
       "                    headers: {\r\n",
       "                        'Content-Type': 'text/plain'\r\n",
       "                    },\r\n",
       "                    body: probingAddresses[i]\r\n",
       "                }));\r\n",
       "\r\n",
       "                if (response.status == 200) {\r\n",
       "                    return rootUrl;\r\n",
       "                }\r\n",
       "            }\r\n",
       "            catch (e) { }\r\n",
       "        }\r\n",
       "    }\r\n",
       "}\r\n",
       "\r\n",
       "function loadDotnetInteractiveApi() {\r\n",
       "    probeAddresses([\"http://192.168.56.1:2048/\", \"http://192.168.26.1:2048/\", \"http://192.168.68.1:2048/\", \"http://10.0.0.107:2048/\", \"http://127.0.0.1:2048/\"])\r\n",
       "        .then((root) => {\r\n",
       "        // use probing to find host url and api resources\r\n",
       "        // load interactive helpers and language services\r\n",
       "        let dotnetInteractiveRequire = require.config({\r\n",
       "        context: '22360.Microsoft.DotNet.Interactive.Http.HttpPort',\r\n",
       "                paths:\r\n",
       "            {\r\n",
       "                'dotnet-interactive': `${root}resources`\r\n",
       "                }\r\n",
       "        }) || require;\r\n",
       "\r\n",
       "            window.dotnetInteractiveRequire = dotnetInteractiveRequire;\r\n",
       "\r\n",
       "            window.configureRequireFromExtension = function(extensionName, extensionCacheBuster) {\r\n",
       "                let paths = {};\r\n",
       "                paths[extensionName] = `${root}extensions/${extensionName}/resources/`;\r\n",
       "                \r\n",
       "                let internalRequire = require.config({\r\n",
       "                    context: extensionCacheBuster,\r\n",
       "                    paths: paths,\r\n",
       "                    urlArgs: `cacheBuster=${extensionCacheBuster}`\r\n",
       "                    }) || require;\r\n",
       "\r\n",
       "                return internalRequire\r\n",
       "            };\r\n",
       "        \r\n",
       "            dotnetInteractiveRequire([\r\n",
       "                    'dotnet-interactive/dotnet-interactive'\r\n",
       "                ],\r\n",
       "                function (dotnet) {\r\n",
       "                    dotnet.init(window);\r\n",
       "                },\r\n",
       "                function (error) {\r\n",
       "                    console.log(error);\r\n",
       "                }\r\n",
       "            );\r\n",
       "        })\r\n",
       "        .catch(error => {console.log(error);});\r\n",
       "    }\r\n",
       "\r\n",
       "// ensure `require` is available globally\r\n",
       "if ((typeof(require) !==  typeof(Function)) || (typeof(require.config) !== typeof(Function))) {\r\n",
       "    let require_script = document.createElement('script');\r\n",
       "    require_script.setAttribute('src', 'https://cdnjs.cloudflare.com/ajax/libs/require.js/2.3.6/require.min.js');\r\n",
       "    require_script.setAttribute('type', 'text/javascript');\r\n",
       "    \r\n",
       "    \r\n",
       "    require_script.onload = function() {\r\n",
       "        loadDotnetInteractiveApi();\r\n",
       "    };\r\n",
       "\r\n",
       "    document.getElementsByTagName('head')[0].appendChild(require_script);\r\n",
       "}\r\n",
       "else {\r\n",
       "    loadDotnetInteractiveApi();\r\n",
       "}\r\n",
       "\r\n",
       "    </script>\r\n",
       "</div>"
      ]
     },
     "metadata": {},
     "output_type": "display_data"
    },
    {
     "name": "stdout",
     "output_type": "stream",
     "text": [
      "System.Int32\n",
      "System.Double\n",
      "System.Boolean\n",
      "System.Char\n",
      "System.Int32\n",
      "System.Int32\n",
      "System.Int32\n",
      "System.Int32\n",
      "System.Int32\n",
      "System.Int32[]\n",
      "System.Boolean\n"
     ]
    }
   ],
   "source": [
    "//find data type\n",
    "Console.WriteLine((5).GetType());\n",
    "Console.WriteLine((5.0).GetType());\n",
    "Console.WriteLine((5 > 1).GetType());\n",
    "Console.WriteLine(('5').GetType());\n",
    "Console.WriteLine((5 * 2).GetType());\n",
    "Console.WriteLine(('5' * 2).GetType());\n",
    "Console.WriteLine(('5' + '2').GetType());\n",
    "Console.WriteLine((5 / 2).GetType());\n",
    "Console.WriteLine((5 % 2).GetType());\n",
    "Console.WriteLine((new int[] { 5, 2, 1 }).GetType());\n",
    "Console.WriteLine((5 == 3).GetType());"
   ]
  },
  {
   "cell_type": "markdown",
   "id": "7aa553b5",
   "metadata": {},
   "source": [
    "PI(The Number) is a function"
   ]
  },
  {
   "cell_type": "markdown",
   "id": "33165e95",
   "metadata": {},
   "source": [
    "# Question 2 (A)"
   ]
  },
  {
   "cell_type": "code",
   "execution_count": 2,
   "id": "60097ddb",
   "metadata": {},
   "outputs": [
    {
     "name": "stdout",
     "output_type": "stream",
     "text": [
      "Length of str is 34\r\n"
     ]
    }
   ],
   "source": [
    "// get the length of a string\n",
    "string str = \"Supercalifragilisticexpialidocious\";\n",
    "Console.WriteLine(\"Length of str is \" + str.Length);"
   ]
  },
  {
   "cell_type": "markdown",
   "id": "8844d09b",
   "metadata": {},
   "source": [
    "# Question 2 (B)"
   ]
  },
  {
   "cell_type": "code",
   "execution_count": 3,
   "id": "8020c3d8",
   "metadata": {},
   "outputs": [
    {
     "name": "stdout",
     "output_type": "stream",
     "text": [
      "True\r\n"
     ]
    }
   ],
   "source": [
    "// check for the substring\n",
    "string substr = \"ice\";\n",
    "Console.WriteLine(str.Contains(substr));"
   ]
  },
  {
   "cell_type": "markdown",
   "id": "89f03331",
   "metadata": {},
   "source": [
    "# Question 2 (C)"
   ]
  },
  {
   "cell_type": "code",
   "execution_count": 4,
   "id": "475d8d43",
   "metadata": {},
   "outputs": [
    {
     "name": "stdout",
     "output_type": "stream",
     "text": [
      "Longest string is Supercalifragilisticexpialidocious\n",
      "Longest string is Bababadalgharaghtakamminarronnkonn\n"
     ]
    }
   ],
   "source": [
    "// get the longest string from the 3 different strings\n",
    "string str = \"Supercalifragilisticexpialidocious\";\n",
    "string str1 = \"Honorificabilitudinitatibus\";\n",
    "string str2 = \"Bababadalgharaghtakamminarronnkonn\";\n",
    "int[] len = new int[3];\n",
    "len[0] = str.Length;\n",
    "len[1] = str1.Length;\n",
    "len[2] = str2.Length;\n",
    "int maxlen = len.Max();\n",
    "if(maxlen == len[0]){\n",
    "    Console.WriteLine(\"Longest string is \" + str);\n",
    "}\n",
    "if(maxlen == len[1]){\n",
    "    Console.WriteLine(\"Longest string is \" + str1);\n",
    "}\n",
    "if(maxlen == len[2])\n",
    "{\n",
    "    Console.WriteLine(\"Longest string is \" + str2);\n",
    "}"
   ]
  },
  {
   "cell_type": "markdown",
   "id": "6e91c8e7",
   "metadata": {},
   "source": [
    "# Question 2 (D)"
   ]
  },
  {
   "cell_type": "code",
   "execution_count": 5,
   "id": "94ef4783",
   "metadata": {},
   "outputs": [
    {
     "name": "stdout",
     "output_type": "stream",
     "text": [
      "First composer in the dictionary: Bartok\n",
      "Last composer in the dictionary: Buxtehude\n"
     ]
    }
   ],
   "source": [
    "// get the first and last composer from the array\n",
    "string[] composers = { \"Berlioz\", \"Borodin\", \"Brian\", \"Bartok\", \"Bellini\", \"Buxtehude\", \"Bernstein\" };\n",
    "Array.Sort(composers);\n",
    "string firstComposer = composers.First();\n",
    "string lastComposer = composers.Last();\n",
    "Console.WriteLine(\"First composer in the dictionary: \" + firstComposer);\n",
    "Console.WriteLine(\"Last composer in the dictionary: \" + lastComposer);"
   ]
  },
  {
   "cell_type": "markdown",
   "id": "0ab70543",
   "metadata": {},
   "source": [
    "# Question 3"
   ]
  },
  {
   "cell_type": "code",
   "execution_count": 6,
   "id": "669ed6ef",
   "metadata": {},
   "outputs": [
    {
     "name": "stdout",
     "output_type": "stream",
     "text": [
      "Area of Triangle is 1.7320508075688772\r\n"
     ]
    }
   ],
   "source": [
    "// find the area of a triangle\n",
    "public void triangleArea(int a, int b, int c){\n",
    "    double s = (a + b + c) / 2;\n",
    "    double clc = s * (s - a) * (s - b) * (s - c);\n",
    "    double area = Math.Sqrt(clc);\n",
    "    Console.WriteLine(\"Area of Triangle is \" + area);\n",
    "}\n",
    "triangleArea(2,2,2)"
   ]
  },
  {
   "cell_type": "markdown",
   "id": "8811d49e",
   "metadata": {},
   "source": [
    "# Question 4"
   ]
  },
  {
   "cell_type": "code",
   "execution_count": 7,
   "id": "4af95ca1",
   "metadata": {},
   "outputs": [
    {
     "name": "stdout",
     "output_type": "stream",
     "text": [
      "Test Data :\n",
      "Input the number of elements to be stored in the array :Input length elements in the array :\n",
      "Even elements are \n",
      "Odd elements are "
     ]
    }
   ],
   "source": [
    "// saperate the odd and even number and store in different array \n",
    "Console.WriteLine(\"Test Data :\");\n",
    "Console.Write(\"Input the number of elements to be stored in the array :\");\n",
    "string str = Console.ReadLine();\n",
    "int length = Convert.ToInt32(str);\n",
    "Console.WriteLine($\"Input length elements in the array :\");\n",
    "int[] array_ele = new int[length];\n",
    "int oddcnt = 0;\n",
    "int evencnt = 0;\n",
    "for (int i = 0; i < length; i++)\n",
    "{\n",
    "    Console.Write($\"element - i :\");\n",
    "    array_ele[i] = Convert.ToInt32(Console.ReadLine());\n",
    "    Console.WriteLine(array_ele[i]);\n",
    "    if ((array_ele[i] % 2) == 0)\n",
    "    {\n",
    "        \n",
    "        evencnt++;\n",
    "    }\n",
    "    else\n",
    "    {\n",
    "        Console.WriteLine(array_ele[i] / 2);\n",
    "        oddcnt++;\n",
    "    }\n",
    "}\n",
    "int[] odd = new int[oddcnt];\n",
    "int[] even = new int[evencnt];\n",
    "for (int i = 0, j = 0, k = 0; i < length; i++)\n",
    "{\n",
    "    if ((array_ele[i] % 2) == 0)\n",
    "    {\n",
    "        even[k] = array_ele[i];\n",
    "        k++;\n",
    "        \n",
    "    }\n",
    "    else\n",
    "    {\n",
    "        odd[j] = array_ele[i];\n",
    "        j++;\n",
    "    }\n",
    "}\n",
    "Console.Write(\"Even elements are \");\n",
    "for(int i = 0; i < even.Length;i++)\n",
    "{\n",
    "    Console.Write(even[i] + \" \");\n",
    "}\n",
    "Console.WriteLine();\n",
    "Console.Write(\"Odd elements are \");\n",
    "for (int i = 0; i < odd.Length; i++)\n",
    "{\n",
    "    Console.Write(odd[i] + \" \");\n",
    "}"
   ]
  },
  {
   "cell_type": "markdown",
   "id": "4cc8aa3c",
   "metadata": {},
   "source": [
    "# Question 5 (A)"
   ]
  },
  {
   "cell_type": "code",
   "execution_count": 100,
   "id": "77a5dd4d",
   "metadata": {},
   "outputs": [
    {
     "name": "stdout",
     "output_type": "stream",
     "text": [
      "True\n",
      "False\n"
     ]
    }
   ],
   "source": [
    "// check x and y points weather they lies in the rectangle or not\n",
    "public bool inside(double x, double y, double x1, double y1, double x2, double y2)\n",
    "{\n",
    "       if (x >= x1 && x <= x2 && y >= y1 && y <= y2)\n",
    "        {\n",
    "            return true;\n",
    "        }\n",
    "        else\n",
    "        {\n",
    "            return false;\n",
    "        }\n",
    "}\n",
    "Console.WriteLine(inside(1,1,0,0,2,3));\n",
    "Console.WriteLine(inside(-1,-1,0,0,2,3));"
   ]
  },
  {
   "cell_type": "markdown",
   "id": "f304994b",
   "metadata": {},
   "source": [
    "# Question 5 (B)"
   ]
  },
  {
   "cell_type": "code",
   "execution_count": 101,
   "id": "effcca17",
   "metadata": {},
   "outputs": [
    {
     "name": "stdout",
     "output_type": "stream",
     "text": [
      "False\n",
      "True\n"
     ]
    }
   ],
   "source": [
    "Console.WriteLine(inside(1,1,0.3,0.5,1.1,0.7));\n",
    "Console.WriteLine(inside(1,1,0.5,0.2,1.1,2));"
   ]
  },
  {
   "cell_type": "markdown",
   "id": "0af48515",
   "metadata": {},
   "source": [
    "# Question 6"
   ]
  },
  {
   "cell_type": "code",
   "execution_count": 1,
   "id": "03d065d9",
   "metadata": {},
   "outputs": [
    {
     "name": "stdout",
     "output_type": "stream",
     "text": [
      "appyhay\n",
      "enterway\n"
     ]
    }
   ],
   "source": [
    "#if word start with vowel the simply append 'way' to the end otherwise move the first letter to the end and append 'ay'\n",
    "def pig(word):\n",
    "    vowels = ['a','e', 'i', 'o', 'u']\n",
    "    word = word.lower()\n",
    "    \n",
    "    if word[0] in vowels:\n",
    "        return word + 'way'\n",
    "    else:\n",
    "        return word[1:] + word[0] + 'ay'\n",
    "\n",
    "print(pig(\"happy\"))\n",
    "print(pig(\"Enter\"))"
   ]
  },
  {
   "cell_type": "markdown",
   "id": "59072014",
   "metadata": {},
   "source": [
    "# Question 7"
   ]
  },
  {
   "cell_type": "code",
   "execution_count": 7,
   "id": "afab7926",
   "metadata": {},
   "outputs": [
    {
     "name": "stdout",
     "output_type": "stream",
     "text": [
      "There are 15 patients of blood type A.\n",
      "There are 1 patients of blood type B.\n",
      "There are 13 patients of blood type AB.\n",
      "There are 15 patients of blood type O.\n",
      "There are no patients of blood type OO.\n"
     ]
    }
   ],
   "source": [
    "#count the number of patients with the each blood type\n",
    "a,b,ab,o,oo = 0, 0, 0, 0, 0\n",
    "arr = ['A', 'B', 'AB', 'O', 'OO']\n",
    "arrcnt = [0, 0, 0, 0, 0]\n",
    "file = open('bloodtype1.txt', 'r')\n",
    "lines = file.readlines()\n",
    "list = [word for sentence in lines for word in sentence.split()]\n",
    "for i in range(0,len(list)):\n",
    "    if(list[i] == 'A'):\n",
    "        arrcnt[0] += 1\n",
    "    elif(list[i] == 'B'):\n",
    "        arrcnt[1] += 1\n",
    "    elif(list[i] == 'AB'):\n",
    "        arrcnt[2] += 1\n",
    "    elif(list[i] == 'O'):\n",
    "        arrcnt[3] += 1\n",
    "    elif(list[i] == 'OO'):\n",
    "        arrcnt[4] += 1\n",
    "for i in range(0,len(arr)):\n",
    "    if(arrcnt[i] > 0):\n",
    "        print(\"There are \" + str(arrcnt[i]) + \" patients of blood type \"+ arr[i] + \".\")\n",
    "    else:\n",
    "        print(\"There are no patients of blood type \"+ arr[i] + \".\")"
   ]
  },
  {
   "cell_type": "markdown",
   "id": "bbe5ea6b",
   "metadata": {},
   "source": [
    "Reference:-\n",
    "list = [word for sentence in lines for word in sentence.split()]\n",
    "I am using above method from my own exprence from previous course which was Artificial Intelligence and Data science"
   ]
  },
  {
   "cell_type": "markdown",
   "id": "ee0e1121",
   "metadata": {},
   "source": [
    "# Question 8"
   ]
  },
  {
   "cell_type": "code",
   "execution_count": 7,
   "id": "7a5b3551",
   "metadata": {},
   "outputs": [
    {
     "name": "stdout",
     "output_type": "stream",
     "text": [
      "122.96544\n",
      "1.241401\n"
     ]
    }
   ],
   "source": [
    "# convert the currency in USD and return it\n",
    "def curconv(nation , amount):\n",
    "    usd = 0\n",
    "    file = open('currencies.txt', 'r')\n",
    "    lines = file.readlines()\n",
    "    list = [word for sentence in lines for word in sentence.split()]\n",
    "    for i in range(0,len(list)):\n",
    "        if(nation == list[i]):\n",
    "            usd =  amount * float(list[i+1])\n",
    "    return usd\n",
    "\n",
    "print(curconv('EUR', 100))\n",
    "print(curconv('JPY', 100))"
   ]
  },
  {
   "cell_type": "markdown",
   "id": "f564a731",
   "metadata": {},
   "source": [
    "Reference:-\n",
    "list = [word for sentence in lines for word in sentence.split()]\n",
    "I am using above method from my own exprence from previous course which was Artificial Intelligence and Data science"
   ]
  },
  {
   "cell_type": "markdown",
   "id": "97c4d38b",
   "metadata": {},
   "source": [
    "# Question 9"
   ]
  },
  {
   "cell_type": "code",
   "execution_count": 8,
   "id": "b7080705",
   "metadata": {},
   "outputs": [
    {
     "name": "stdout",
     "output_type": "stream",
     "text": [
      "Exception Type: TypeError\n",
      "Exception: unsupported operand type(s) for +: 'int' and 'str'\n",
      "Exception Type: IndexError\n",
      "Exception: list index out of range\n",
      "Exception Type: ValueError\n",
      "Exception: math domain error\n",
      "Exception Type: NameError\n",
      "Exception: name 'x' is not defined\n",
      "Exception Type: FileNotFoundError\n",
      "Exception: [Errno 2] No such file or directory: 'currency.txt'\n"
     ]
    }
   ],
   "source": [
    "import math\n",
    "# Exception handling\n",
    "# 1. Trying to add 6 + 'a'\n",
    "try:\n",
    "    result = 6 + 'a'\n",
    "except TypeError as e:\n",
    "    print(\"Exception Type:\", type(e).__name__)\n",
    "    print(\"Exception:\", e)\n",
    "\n",
    "\n",
    "# 2. Referring to the 12th item of a list with 10 items\n",
    "try:\n",
    "    my_list = [1, 2, 3, 4, 5, 6, 7, 8, 9, 10]\n",
    "    item = my_list[11]\n",
    "except IndexError as e:\n",
    "    print(\"Exception Type:\", type(e).__name__)\n",
    "    print(\"Exception:\", e)\n",
    "\n",
    "\n",
    "# 3. Using a value that is out of range for a function's input\n",
    "try:\n",
    "    result = math.sqrt(-1.0)\n",
    "except ValueError as e:\n",
    "    print(\"Exception Type:\", type(e).__name__)\n",
    "    print(\"Exception:\", e)\n",
    "\n",
    "\n",
    "# 4. Using an undeclared variable\n",
    "try:\n",
    "    print(x)\n",
    "except NameError as e:\n",
    "    print(\"Exception Type:\", type(e).__name__)\n",
    "    print(\"Exception:\", e)\n",
    "\n",
    "\n",
    "# 5. Trying to open a file that does not exist\n",
    "try:\n",
    "    file = open(\"currency.txt\", \"r\")\n",
    "except FileNotFoundError as e:\n",
    "    print(\"Exception Type:\", type(e).__name__)\n",
    "    print(\"Exception:\", e)\n"
   ]
  },
  {
   "cell_type": "markdown",
   "id": "04aa5e62",
   "metadata": {},
   "source": [
    "# Question 10"
   ]
  },
  {
   "cell_type": "code",
   "execution_count": 32,
   "id": "354ef4ea",
   "metadata": {},
   "outputs": [
    {
     "name": "stdout",
     "output_type": "stream",
     "text": [
      "[1, 1, 1, 3, 5, 1, 1, 2, 1, 0, 1, 0, 1, 2, 4, 0, 1, 2, 0, 3, 1, 0, 1, 1, 0, 0]\n",
      "[1, 0, 0, 0, 1, 0, 0, 0, 0, 0, 0, 1, 0, 0, 0, 2, 0, 0, 0, 0, 0, 0, 0, 0, 0, 0]\n"
     ]
    }
   ],
   "source": [
    "# count number of each alphbets used in string\n",
    "def frequencies(str):\n",
    "    letters = 'abcdefghijklmnopqrstuvwxyz'\n",
    "    counts = [0] * len(letters)\n",
    "    for c in str.lower():\n",
    "        if c in letters:\n",
    "            i = letters.index(c)\n",
    "            counts[i] += 1\n",
    "    return counts\n",
    "\n",
    "print(frequencies(\"The quick red fox got bored and went home.\"))\n",
    "\n",
    "print(frequencies('apple'))\n"
   ]
  }
 ],
 "metadata": {
  "kernelspec": {
   "display_name": "Python 3 (ipykernel)",
   "language": "python",
   "name": "python3"
  },
  "language_info": {
   "codemirror_mode": {
    "name": "ipython",
    "version": 3
   },
   "file_extension": ".py",
   "mimetype": "text/x-python",
   "name": "python",
   "nbconvert_exporter": "python",
   "pygments_lexer": "ipython3",
   "version": "3.9.12"
  }
 },
 "nbformat": 4,
 "nbformat_minor": 5
}
